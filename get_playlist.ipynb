{
 "cells": [
  {
   "cell_type": "code",
   "execution_count": 1,
   "metadata": {},
   "outputs": [
    {
     "name": "stdout",
     "output_type": "stream",
     "text": [
      "Collecting spotipy\n",
      "  Downloading spotipy-2.24.0-py3-none-any.whl.metadata (4.9 kB)\n",
      "Collecting redis>=3.5.3 (from spotipy)\n",
      "  Downloading redis-5.0.7-py3-none-any.whl.metadata (9.3 kB)\n",
      "Requirement already satisfied: requests>=2.25.0 in c:\\users\\benni\\appdata\\local\\packages\\pythonsoftwarefoundation.python.3.11_qbz5n2kfra8p0\\localcache\\local-packages\\python311\\site-packages (from spotipy) (2.31.0)\n",
      "Requirement already satisfied: urllib3>=1.26.0 in c:\\users\\benni\\appdata\\local\\packages\\pythonsoftwarefoundation.python.3.11_qbz5n2kfra8p0\\localcache\\local-packages\\python311\\site-packages (from spotipy) (2.2.0)\n",
      "Requirement already satisfied: charset-normalizer<4,>=2 in c:\\users\\benni\\appdata\\local\\packages\\pythonsoftwarefoundation.python.3.11_qbz5n2kfra8p0\\localcache\\local-packages\\python311\\site-packages (from requests>=2.25.0->spotipy) (3.3.2)\n",
      "Requirement already satisfied: idna<4,>=2.5 in c:\\users\\benni\\appdata\\local\\packages\\pythonsoftwarefoundation.python.3.11_qbz5n2kfra8p0\\localcache\\local-packages\\python311\\site-packages (from requests>=2.25.0->spotipy) (3.6)\n",
      "Requirement already satisfied: certifi>=2017.4.17 in c:\\users\\benni\\appdata\\local\\packages\\pythonsoftwarefoundation.python.3.11_qbz5n2kfra8p0\\localcache\\local-packages\\python311\\site-packages (from requests>=2.25.0->spotipy) (2024.2.2)\n",
      "Downloading spotipy-2.24.0-py3-none-any.whl (30 kB)\n",
      "Downloading redis-5.0.7-py3-none-any.whl (252 kB)\n",
      "   ---------------------------------------- 0.0/252.1 kB ? eta -:--:--\n",
      "   ----------------------------------- ---- 225.3/252.1 kB 6.7 MB/s eta 0:00:01\n",
      "   ---------------------------------------- 252.1/252.1 kB 5.1 MB/s eta 0:00:00\n",
      "Installing collected packages: redis, spotipy\n",
      "Successfully installed redis-5.0.7 spotipy-2.24.0\n"
     ]
    },
    {
     "name": "stderr",
     "output_type": "stream",
     "text": [
      "\n",
      "[notice] A new release of pip is available: 24.0 -> 24.1\n",
      "[notice] To update, run: C:\\Users\\benni\\AppData\\Local\\Microsoft\\WindowsApps\\PythonSoftwareFoundation.Python.3.11_qbz5n2kfra8p0\\python.exe -m pip install --upgrade pip\n"
     ]
    }
   ],
   "source": [
    "!pip install spotipy"
   ]
  },
  {
   "cell_type": "code",
   "execution_count": 22,
   "metadata": {},
   "outputs": [],
   "source": [
    "import spotipy\n",
    "from spotipy.oauth2 import SpotifyClientCredentials,SpotifyOAuth\n",
    "import random\n",
    "from env import *\n",
    "\n",
    "\n",
    "\n"
   ]
  },
  {
   "cell_type": "code",
   "execution_count": 23,
   "metadata": {},
   "outputs": [
    {
     "name": "stdout",
     "output_type": "stream",
     "text": [
      "Artist found: Dua Lipa (ID: 6M2wZ9GZgrQXHCFfjv46we)\n",
      "Top tracks for Dua Lipa: top_tracks:['5b5cPscqVEMChvDqscVw26', '6D8y7Bck8h11byRY88Pt2z', '7rglLriMNBPAyuJOMGwi39', '5q0EXnBYyeCdXD72FzJxH0', '3PfIrDoz19wz7qK7tYeu62', '1vYXt7VSjH9JIM5oRRo7vA', '7ef4DlsgrMEH11cDZd32M6', '5nujrmhLynf4yMoMtj8AQF', '2ekn2ttSfGqwhhate0LSR0', '7b6sWLSnbZhSIeqNGrJ4py']\n",
      "Artist found: Ariana Grande (ID: 66CXWjxzNUsdJxJ2JdwvnR)\n",
      "Top tracks for Ariana Grande: top_tracks:['51ZQ1vr10ffzbwIjDCwqm4', '0Lmbke3KNVFXtoH2mMSHCw', '2o1pb13quMReXZqE7jWsgq', '5D34wRmbFS29AjtTOP2QJe', '4W4fNrZYkobj539TOWsLO2', '1oFAF1hdPOickyHgbuRjyX', '7xoUc6faLbCqZO6fQEYprd', '6ocbgoVGwYJhOv1GgI9NsF', '1Rweq7vNjK4kZBbGrmxQsl', '6RUhbFEhrvGISaQ8u2j2JN']\n",
      "Artist found: Billie Eilish (ID: 6qqNVTkY8uBg9cP3Jd7DAH)\n",
      "Top tracks for Billie Eilish: top_tracks:['6dOtVTDdiauQNBQEDOtlAB', '629DixmZGHc7ILtEntuiWE', '7BRD7x5pt8Lqa1eGYC4dzj', '3QaPy1KgI7nu9FJEQUgn6h', '2prqm9sPLj10B4Wg0wE5x9', '6fPan2saHdFaIHuTSatORv', '6TGd66r0nlPaYm3KIoI7ET', '1CsMKhwEmNnmvHUuO5nryA', '6wf7Yu7cxBSPrRlWeSeK0Q', '1LLUoftvmTjVNBHZoQyveF']\n",
      "No matching artist found for 'bentobox1995'.\n",
      "{'collaborative': False, 'description': 'Test', 'external_urls': {'spotify': 'https://open.spotify.com/playlist/2iwrUoMU343zcYLIFAS82h'}, 'followers': {'href': None, 'total': 0}, 'href': 'https://api.spotify.com/v1/playlists/2iwrUoMU343zcYLIFAS82h', 'id': '2iwrUoMU343zcYLIFAS82h', 'images': [], 'primary_color': None, 'name': 'test_hackathon_2024', 'type': 'playlist', 'uri': 'spotify:playlist:2iwrUoMU343zcYLIFAS82h', 'owner': {'href': 'https://api.spotify.com/v1/users/3e1b8516f1c64e6dafefd994708a1d76', 'id': '3e1b8516f1c64e6dafefd994708a1d76', 'type': 'user', 'uri': 'spotify:user:3e1b8516f1c64e6dafefd994708a1d76', 'display_name': None, 'external_urls': {'spotify': 'https://open.spotify.com/user/3e1b8516f1c64e6dafefd994708a1d76'}}, 'public': False, 'snapshot_id': 'AAAAeCl3iyf49tjox20rptBzizOmk57G', 'tracks': {'limit': 100, 'next': None, 'offset': 0, 'previous': None, 'href': 'https://api.spotify.com/v1/playlists/2iwrUoMU343zcYLIFAS82h/tracks', 'total': 0, 'items': []}}\n",
      "['5b5cPscqVEMChvDqscVw26', '6D8y7Bck8h11byRY88Pt2z', '7rglLriMNBPAyuJOMGwi39', '5q0EXnBYyeCdXD72FzJxH0', '3PfIrDoz19wz7qK7tYeu62', '1vYXt7VSjH9JIM5oRRo7vA', '7ef4DlsgrMEH11cDZd32M6', '5nujrmhLynf4yMoMtj8AQF', '2ekn2ttSfGqwhhate0LSR0', '7b6sWLSnbZhSIeqNGrJ4py', '51ZQ1vr10ffzbwIjDCwqm4', '0Lmbke3KNVFXtoH2mMSHCw', '2o1pb13quMReXZqE7jWsgq', '5D34wRmbFS29AjtTOP2QJe', '4W4fNrZYkobj539TOWsLO2', '1oFAF1hdPOickyHgbuRjyX', '7xoUc6faLbCqZO6fQEYprd', '6ocbgoVGwYJhOv1GgI9NsF', '1Rweq7vNjK4kZBbGrmxQsl', '6RUhbFEhrvGISaQ8u2j2JN', '6dOtVTDdiauQNBQEDOtlAB', '629DixmZGHc7ILtEntuiWE', '7BRD7x5pt8Lqa1eGYC4dzj', '3QaPy1KgI7nu9FJEQUgn6h', '2prqm9sPLj10B4Wg0wE5x9', '6fPan2saHdFaIHuTSatORv', '6TGd66r0nlPaYm3KIoI7ET', '1CsMKhwEmNnmvHUuO5nryA', '6wf7Yu7cxBSPrRlWeSeK0Q', '1LLUoftvmTjVNBHZoQyveF']\n"
     ]
    },
    {
     "data": {
      "text/plain": [
       "{'snapshot_id': 'AAAAAgo+zMyksIfo98ma9DcKfKcQXuKj'}"
      ]
     },
     "execution_count": 23,
     "metadata": {},
     "output_type": "execute_result"
    }
   ],
   "source": [
    "\n",
    "sp = spotipy.Spotify(auth_manager=SpotifyClientCredentials(client_id, client_secret))\n",
    "artist_names = ['Dua Lipa', 'Ariana Grande', 'Billie Eilish', 'bentobox1995']\n",
    "spotify_track_list = []\n",
    "for artist_name in artist_names:\n",
    "    results = sp.search(q=f'artist:{artist_name}', type='artist', limit=1)\n",
    "    if results['artists']['items']:\n",
    "        artist_id = results['artists']['items'][0]['id']\n",
    "        print(f\"Artist found: {artist_name} (ID: {artist_id})\")\n",
    "        top_tracks = sp.artist_top_tracks(artist_id)\n",
    "        print(f\"Top tracks for {artist_name}: top_tracks:{[track['id'] for track in top_tracks['tracks']]}\")\n",
    "        spotify_track_list += [track['id'] for track in top_tracks['tracks']]\n",
    "    else:\n",
    "        print(f\"No matching artist found for '{artist_name}'.\")\n",
    "\n",
    "sp = spotipy.Spotify(auth_manager=SpotifyOAuth(client_id, client_secret, redirect_uri=\"http://localhost:8000/callback\", scope=\"playlist-modify-private\"))\n",
    "playlist = sp.user_playlist_create(user_id, playlist, public=False, description=\"Test\")\n",
    "print(playlist)\n",
    "print(spotify_track_list)\n",
    "sp.user_playlist_add_tracks(user_id, playlist[\"id\"], spotify_track_list)\n"
   ]
  },
  {
   "cell_type": "code",
   "execution_count": 1,
   "metadata": {},
   "outputs": [],
   "source": [
    "import requests\n"
   ]
  },
  {
   "cell_type": "code",
   "execution_count": null,
   "metadata": {},
   "outputs": [],
   "source": []
  }
 ],
 "metadata": {
  "kernelspec": {
   "display_name": "Python 3",
   "language": "python",
   "name": "python3"
  },
  "language_info": {
   "codemirror_mode": {
    "name": "ipython",
    "version": 3
   },
   "file_extension": ".py",
   "mimetype": "text/x-python",
   "name": "python",
   "nbconvert_exporter": "python",
   "pygments_lexer": "ipython3",
   "version": "3.11.9"
  }
 },
 "nbformat": 4,
 "nbformat_minor": 2
}
